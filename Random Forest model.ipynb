{
 "cells": [
  {
   "cell_type": "code",
   "execution_count": 1,
   "id": "48654c76",
   "metadata": {},
   "outputs": [
    {
     "name": "stdout",
     "output_type": "stream",
     "text": [
      "Accuracy: 0.9565532223026793\n",
      "              precision    recall  f1-score   support\n",
      "\n",
      "           0       0.95      0.98      0.96       804\n",
      "           1       0.97      0.93      0.95       577\n",
      "\n",
      "    accuracy                           0.96      1381\n",
      "   macro avg       0.96      0.95      0.96      1381\n",
      "weighted avg       0.96      0.96      0.96      1381\n",
      "\n"
     ]
    }
   ],
   "source": [
    "from sklearn.ensemble import RandomForestClassifier\n",
    "from sklearn.model_selection import train_test_split\n",
    "from sklearn.metrics import accuracy_score, classification_report\n",
    "import pandas as pd\n",
    "\n",
    "class SpamDetection:\n",
    "    def __init__(self, data_path):\n",
    "        # Initialize the class with the path to the dataset\n",
    "        self.data_path = data_path\n",
    "\n",
    "    def load_data(self):\n",
    "        \"\"\"Load dataset from a specified path.\"\"\"\n",
    "        # Read the CSV file into a pandas DataFrame and return it\n",
    "        return pd.read_csv(self.data_path)\n",
    "\n",
    "    def preprocess(self, data):\n",
    "        \"\"\"Preprocess data by separating features and target.\"\"\"\n",
    "        # Use all columns except 'spam' as features (X)\n",
    "        X = data.drop(columns=['spam'])\n",
    "        # The 'spam' column is the target variable (y)\n",
    "        y = data['spam']\n",
    "        # Split the data into training and testing sets (70% train, 30% test)\n",
    "        return train_test_split(X, y, test_size=0.3, random_state=42)\n",
    "\n",
    "    def train_model(self, X_train, y_train):\n",
    "        \"\"\"Train the Random Forest model.\"\"\"\n",
    "        # Initialize the Random Forest classifier with 100 trees\n",
    "        rf_classifier = RandomForestClassifier(n_estimators=100, random_state=42)\n",
    "        # Fit the model to the training data\n",
    "        rf_classifier.fit(X_train, y_train)\n",
    "        # Return the trained model\n",
    "        return rf_classifier\n",
    "\n",
    "    def evaluate_model(self, model, X_test, y_test):\n",
    "        \"\"\"Evaluate model performance and print results.\"\"\"\n",
    "        # Make predictions on the test set\n",
    "        y_pred = model.predict(X_test)\n",
    "        # Calculate and print the accuracy of the model\n",
    "        print(\"Accuracy:\", accuracy_score(y_test, y_pred))\n",
    "        # Print a detailed classification report (precision, recall, f1-score)\n",
    "        print(classification_report(y_test, y_pred))\n",
    "\n",
    "# Implementation\n",
    "# Create an instance of the SpamDetection class with the specified data path\n",
    "spam_detector = SpamDetection(data_path='spambase.csv')\n",
    "# Load the dataset\n",
    "data = spam_detector.load_data()\n",
    "# Preprocess the data and split it into training and testing sets\n",
    "X_train, X_test, y_train, y_test = spam_detector.preprocess(data)\n",
    "# Train the Random Forest model using the training data\n",
    "model = spam_detector.train_model(X_train, y_train)\n",
    "# Evaluate the trained model using the test data\n",
    "spam_detector.evaluate_model(model, X_test, y_test)"
   ]
  }
 ],
 "metadata": {
  "kernelspec": {
   "display_name": "Python 3 (ipykernel)",
   "language": "python",
   "name": "python3"
  },
  "language_info": {
   "codemirror_mode": {
    "name": "ipython",
    "version": 3
   },
   "file_extension": ".py",
   "mimetype": "text/x-python",
   "name": "python",
   "nbconvert_exporter": "python",
   "pygments_lexer": "ipython3",
   "version": "3.12.4"
  }
 },
 "nbformat": 4,
 "nbformat_minor": 5
}
