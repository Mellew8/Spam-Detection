{
 "cells": [
  {
   "cell_type": "code",
   "execution_count": 38,
   "id": "129dbed0-9131-400d-b4bb-5da4b80e41ad",
   "metadata": {},
   "outputs": [
    {
     "name": "stdout",
     "output_type": "stream",
     "text": [
      "Accuracy: 0.8993482983345402\n",
      "              precision    recall  f1-score   support\n",
      "\n",
      "           0       0.91      0.91      0.91       804\n",
      "           1       0.88      0.88      0.88       577\n",
      "\n",
      "    accuracy                           0.90      1381\n",
      "   macro avg       0.90      0.90      0.90      1381\n",
      "weighted avg       0.90      0.90      0.90      1381\n",
      "\n"
     ]
    }
   ],
   "source": [
    "from sklearn.tree import DecisionTreeClassifier\n",
    "from sklearn.model_selection import train_test_split\n",
    "from sklearn.metrics import accuracy_score, classification_report\n",
    "import pandas as pd\n",
    "\n",
    "class SpamDetectionDecisionTree:\n",
    "    def __init__(self, data_path):  ,
    "        self.data_path = data_path\n",
    "\n",
    "    def load_data(self):\n",
    "        \"\"\"Load dataset from a specified path.\"\"\"\n",
    "        return pd.read_csv(self.data_path)\n",
    "\n",
    "    def preprocess(self, data):\n",
    "        \"\"\"Preprocess data by separating features and target.\"\"\"\n",
    "        # Use all columns except 'spam' as features\n",
    "        X = data.drop(columns=['spam'])\n",
    "        y = data['spam']\n",
    "        return train_test_split(X, y, test_size=0.3, random_state=42)\n",
    "\n",
    "    def train_model(self, X_train, y_train):\n",
    "        \"\"\"Train the Decision Tree model.\"\"\"\n",
    "        dt_classifier = DecisionTreeClassifier(random_state=42)\n",
    "        dt_classifier.fit(X_train, y_train)\n",
    "        return dt_classifier\n",
    "\n",
    "    def evaluate_model(self, model, X_test, y_test):\n",
    "        \"\"\"Evaluate model performance and print results.\"\"\"\n",
    "        y_pred = model.predict(X_test)\n",
    "        print(\"Accuracy:\", accuracy_score(y_test, y_pred))\n",
    "        print(classification_report(y_test, y_pred))\n",
    "\n",
    "# Implementation\n",
    "spam_detector_dt = SpamDetectionDecisionTree(data_path='spambase.csv')\n",
    "data = spam_detector_dt.load_data()\n",
    "X_train, X_test, y_train, y_test = spam_detector_dt.preprocess(data)\n",
    "model = spam_detector_dt.train_model(X_train, y_train)\n",
    "spam_detector_dt.evaluate_model(model, X_test, y_test)\n"
   ]
  },
  {
   "cell_type": "code",
   "execution_count": null,
   "id": "a22be3ef-551d-4de8-929b-e883ee939ac0",
   "metadata": {},
   "outputs": [],
   "source": []
  }
 ],
 "metadata": {
  "kernelspec": {
   "display_name": "Python 3 (ipykernel)",
   "language": "python",
   "name": "python3"
  },
  "language_info": {
   "codemirror_mode": {
    "name": "ipython",
    "version": 3
   },
   "file_extension": ".py",
   "mimetype": "text/x-python",
   "name": "python",
   "nbconvert_exporter": "python",
   "pygments_lexer": "ipython3",
   "version": "3.12.4"
  }
 },
 "nbformat": 4,
 "nbformat_minor": 5
}
